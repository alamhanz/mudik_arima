{
 "cells": [
  {
   "cell_type": "code",
   "execution_count": 1,
   "metadata": {
    "collapsed": true
   },
   "outputs": [],
   "source": [
    "import pandas as pd\n",
    "import datetime as dt"
   ]
  },
  {
   "cell_type": "code",
   "execution_count": 2,
   "metadata": {
    "collapsed": true
   },
   "outputs": [],
   "source": [
    "dka=pd.read_csv('data_ka.csv')"
   ]
  },
  {
   "cell_type": "code",
   "execution_count": 3,
   "metadata": {},
   "outputs": [
    {
     "data": {
      "text/plain": [
       "Index(['Unnamed: 0', 'H-1', 'H-10', 'H-2', 'H-3', 'H-4', 'H-5', 'H-6', 'H-7',\n",
       "       'H-8', 'H-9', 'H0', 'H1', 'H10', 'H2', 'H3', 'H4', 'H5', 'H6', 'H7',\n",
       "       'H8', 'H9', 'daopid', 'year', 'bis', 'daop', 'eko', 'eks', 'id',\n",
       "       'kapasitas', 'kode', 'kodedaop', 'koordinat', 'kota', 'latitude',\n",
       "       'lokal', 'longitude', 'moda', 'nama', 'provinsi'],\n",
       "      dtype='object')"
      ]
     },
     "execution_count": 3,
     "metadata": {},
     "output_type": "execute_result"
    }
   ],
   "source": [
    "dka.columns"
   ]
  },
  {
   "cell_type": "code",
   "execution_count": 4,
   "metadata": {
    "scrolled": true
   },
   "outputs": [
    {
     "data": {
      "text/html": [
       "<div>\n",
       "<table border=\"1\" class=\"dataframe\">\n",
       "  <thead>\n",
       "    <tr style=\"text-align: right;\">\n",
       "      <th></th>\n",
       "      <th>2</th>\n",
       "      <th>3</th>\n",
       "      <th>20</th>\n",
       "      <th>21</th>\n",
       "    </tr>\n",
       "  </thead>\n",
       "  <tbody>\n",
       "    <tr>\n",
       "      <th>kota</th>\n",
       "      <td>Kota Bandung</td>\n",
       "      <td>Kota Bandung</td>\n",
       "      <td>Kota Padang</td>\n",
       "      <td>Kota Padang</td>\n",
       "    </tr>\n",
       "    <tr>\n",
       "      <th>id</th>\n",
       "      <td>119</td>\n",
       "      <td>119</td>\n",
       "      <td>424</td>\n",
       "      <td>424</td>\n",
       "    </tr>\n",
       "    <tr>\n",
       "      <th>year</th>\n",
       "      <td>2016</td>\n",
       "      <td>2017</td>\n",
       "      <td>2016</td>\n",
       "      <td>2017</td>\n",
       "    </tr>\n",
       "    <tr>\n",
       "      <th>H-10</th>\n",
       "      <td>39072</td>\n",
       "      <td>38083</td>\n",
       "      <td>2375</td>\n",
       "      <td>2273</td>\n",
       "    </tr>\n",
       "    <tr>\n",
       "      <th>H-9</th>\n",
       "      <td>35945</td>\n",
       "      <td>43416</td>\n",
       "      <td>2663</td>\n",
       "      <td>2362</td>\n",
       "    </tr>\n",
       "    <tr>\n",
       "      <th>H-8</th>\n",
       "      <td>33849</td>\n",
       "      <td>53651</td>\n",
       "      <td>2304</td>\n",
       "      <td>1888</td>\n",
       "    </tr>\n",
       "    <tr>\n",
       "      <th>H-7</th>\n",
       "      <td>35827</td>\n",
       "      <td>63734</td>\n",
       "      <td>2573</td>\n",
       "      <td>2516</td>\n",
       "    </tr>\n",
       "    <tr>\n",
       "      <th>H-6</th>\n",
       "      <td>35582</td>\n",
       "      <td>55872</td>\n",
       "      <td>2547</td>\n",
       "      <td>2775</td>\n",
       "    </tr>\n",
       "    <tr>\n",
       "      <th>H-5</th>\n",
       "      <td>36677</td>\n",
       "      <td>52481</td>\n",
       "      <td>2370</td>\n",
       "      <td>3081</td>\n",
       "    </tr>\n",
       "    <tr>\n",
       "      <th>H-4</th>\n",
       "      <td>43557</td>\n",
       "      <td>52047</td>\n",
       "      <td>2682</td>\n",
       "      <td>2910</td>\n",
       "    </tr>\n",
       "    <tr>\n",
       "      <th>H-3</th>\n",
       "      <td>42589</td>\n",
       "      <td>54663</td>\n",
       "      <td>2568</td>\n",
       "      <td>3065</td>\n",
       "    </tr>\n",
       "    <tr>\n",
       "      <th>H-2</th>\n",
       "      <td>38321</td>\n",
       "      <td>55449</td>\n",
       "      <td>2457</td>\n",
       "      <td>2483</td>\n",
       "    </tr>\n",
       "    <tr>\n",
       "      <th>H-1</th>\n",
       "      <td>29787</td>\n",
       "      <td>42784</td>\n",
       "      <td>1735</td>\n",
       "      <td>1676</td>\n",
       "    </tr>\n",
       "    <tr>\n",
       "      <th>H0</th>\n",
       "      <td>37171</td>\n",
       "      <td>46569</td>\n",
       "      <td>1697</td>\n",
       "      <td>1273</td>\n",
       "    </tr>\n",
       "    <tr>\n",
       "      <th>H1</th>\n",
       "      <td>49640</td>\n",
       "      <td>10012</td>\n",
       "      <td>4374</td>\n",
       "      <td>0</td>\n",
       "    </tr>\n",
       "    <tr>\n",
       "      <th>H2</th>\n",
       "      <td>45569</td>\n",
       "      <td>7842</td>\n",
       "      <td>4441</td>\n",
       "      <td>0</td>\n",
       "    </tr>\n",
       "    <tr>\n",
       "      <th>H3</th>\n",
       "      <td>46951</td>\n",
       "      <td>8730</td>\n",
       "      <td>4702</td>\n",
       "      <td>0</td>\n",
       "    </tr>\n",
       "    <tr>\n",
       "      <th>H4</th>\n",
       "      <td>46518</td>\n",
       "      <td>9069</td>\n",
       "      <td>4559</td>\n",
       "      <td>0</td>\n",
       "    </tr>\n",
       "    <tr>\n",
       "      <th>H5</th>\n",
       "      <td>44990</td>\n",
       "      <td>10088</td>\n",
       "      <td>4568</td>\n",
       "      <td>0</td>\n",
       "    </tr>\n",
       "    <tr>\n",
       "      <th>H6</th>\n",
       "      <td>41228</td>\n",
       "      <td>0</td>\n",
       "      <td>4447</td>\n",
       "      <td>0</td>\n",
       "    </tr>\n",
       "    <tr>\n",
       "      <th>H7</th>\n",
       "      <td>40198</td>\n",
       "      <td>0</td>\n",
       "      <td>4668</td>\n",
       "      <td>0</td>\n",
       "    </tr>\n",
       "    <tr>\n",
       "      <th>H8</th>\n",
       "      <td>39710</td>\n",
       "      <td>0</td>\n",
       "      <td>4636</td>\n",
       "      <td>0</td>\n",
       "    </tr>\n",
       "    <tr>\n",
       "      <th>H9</th>\n",
       "      <td>0</td>\n",
       "      <td>0</td>\n",
       "      <td>0</td>\n",
       "      <td>0</td>\n",
       "    </tr>\n",
       "    <tr>\n",
       "      <th>H10</th>\n",
       "      <td>39131</td>\n",
       "      <td>0</td>\n",
       "      <td>4364</td>\n",
       "      <td>0</td>\n",
       "    </tr>\n",
       "  </tbody>\n",
       "</table>\n",
       "</div>"
      ],
      "text/plain": [
       "                2             3            20           21\n",
       "kota  Kota Bandung  Kota Bandung  Kota Padang  Kota Padang\n",
       "id             119           119          424          424\n",
       "year          2016          2017         2016         2017\n",
       "H-10         39072         38083         2375         2273\n",
       "H-9          35945         43416         2663         2362\n",
       "H-8          33849         53651         2304         1888\n",
       "H-7          35827         63734         2573         2516\n",
       "H-6          35582         55872         2547         2775\n",
       "H-5          36677         52481         2370         3081\n",
       "H-4          43557         52047         2682         2910\n",
       "H-3          42589         54663         2568         3065\n",
       "H-2          38321         55449         2457         2483\n",
       "H-1          29787         42784         1735         1676\n",
       "H0           37171         46569         1697         1273\n",
       "H1           49640         10012         4374            0\n",
       "H2           45569          7842         4441            0\n",
       "H3           46951          8730         4702            0\n",
       "H4           46518          9069         4559            0\n",
       "H5           44990         10088         4568            0\n",
       "H6           41228             0         4447            0\n",
       "H7           40198             0         4668            0\n",
       "H8           39710             0         4636            0\n",
       "H9               0             0            0            0\n",
       "H10          39131             0         4364            0"
      ]
     },
     "execution_count": 4,
     "metadata": {},
     "output_type": "execute_result"
    }
   ],
   "source": [
    "dka2=dka[['kota','id','year','H-10', 'H-9', 'H-8', 'H-7', 'H-6', 'H-5', 'H-4', 'H-3',\n",
    "       'H-2', 'H-1', 'H0', 'H1', 'H2', 'H3', 'H4', 'H5', 'H6', 'H7',\n",
    "       'H8', 'H9', 'H10']]\n",
    "dka2[dka2.kota.isin(['Kota Padang','Kota Bandung'])].transpose()"
   ]
  },
  {
   "cell_type": "code",
   "execution_count": 5,
   "metadata": {
    "collapsed": true
   },
   "outputs": [],
   "source": [
    "#Padang is not complete"
   ]
  },
  {
   "cell_type": "code",
   "execution_count": 6,
   "metadata": {
    "collapsed": true
   },
   "outputs": [],
   "source": [
    "dka2=dka2[dka2.kota!='Kota Padang']"
   ]
  },
  {
   "cell_type": "code",
   "execution_count": 7,
   "metadata": {
    "collapsed": true
   },
   "outputs": [],
   "source": [
    "# cit='Kota Jakarta Pusat'\n",
    "# yea=2016\n",
    "\n",
    "dta=pd.DataFrame()\n",
    "j=0\n",
    "for cit in dka2.kota.unique():\n",
    "    for yea in dka2.year.unique():\n",
    "        dte=pd.DataFrame()\n",
    "        dk=dka2[(dka2.kota==cit)&(dka2.year==yea)]\n",
    "        dk1=dk[dk.columns[3:]].transpose()\n",
    "        dte['passenger']=dk1[dk1.columns[0]].values\n",
    "        dte['time']=[int(i) for i in range(len(dte))]\n",
    "        dte['year']=yea\n",
    "        dte['city']=cit\n",
    "        dta=dta.append(dte)"
   ]
  },
  {
   "cell_type": "code",
   "execution_count": 8,
   "metadata": {
    "collapsed": true
   },
   "outputs": [],
   "source": [
    "dateh_2016=dt.datetime.strptime('2016-07-06','%Y-%m-%d')\n",
    "dateh_2017=dt.datetime.strptime('2017-06-25','%Y-%m-%d')\n",
    "dateh_2016_10=dateh_2016+dt.timedelta(-10)\n",
    "dateh_2017_10=dateh_2017+dt.timedelta(-10)"
   ]
  },
  {
   "cell_type": "code",
   "execution_count": 9,
   "metadata": {},
   "outputs": [
    {
     "name": "stderr",
     "output_type": "stream",
     "text": [
      "C:\\Users\\Aska\\Anaconda2\\envs\\snakes3_gpu\\lib\\site-packages\\ipykernel\\__main__.py:4: SettingWithCopyWarning: \n",
      "A value is trying to be set on a copy of a slice from a DataFrame.\n",
      "Try using .loc[row_indexer,col_indexer] = value instead\n",
      "\n",
      "See the caveats in the documentation: http://pandas.pydata.org/pandas-docs/stable/indexing.html#indexing-view-versus-copy\n"
     ]
    }
   ],
   "source": [
    "dta2=pd.DataFrame()\n",
    "for ye,da in zip([2016,2017],[dateh_2016_10,dateh_2017_10]):\n",
    "    dr=dta[dta.year==ye]\n",
    "    dr['mudik_date']=dr.time.apply(lambda x: da+dt.timedelta(x))\n",
    "    dta2=dta2.append(dr)"
   ]
  },
  {
   "cell_type": "code",
   "execution_count": 10,
   "metadata": {
    "collapsed": true
   },
   "outputs": [],
   "source": [
    "time_c=dict(zip([i for i in range(21)],['h'+str(-10+i) for i in range(10)]+['h+'+str(i) for i in range(11)]))"
   ]
  },
  {
   "cell_type": "code",
   "execution_count": 11,
   "metadata": {
    "collapsed": true
   },
   "outputs": [],
   "source": [
    "dta2['days_type']=dta2['time'].apply(lambda x: time_c[x])"
   ]
  },
  {
   "cell_type": "code",
   "execution_count": 12,
   "metadata": {},
   "outputs": [
    {
     "data": {
      "text/html": [
       "<div>\n",
       "<table border=\"1\" class=\"dataframe\">\n",
       "  <thead>\n",
       "    <tr style=\"text-align: right;\">\n",
       "      <th></th>\n",
       "      <th>passenger</th>\n",
       "      <th>time</th>\n",
       "      <th>year</th>\n",
       "      <th>city</th>\n",
       "      <th>mudik_date</th>\n",
       "      <th>days_type</th>\n",
       "    </tr>\n",
       "  </thead>\n",
       "  <tbody>\n",
       "    <tr>\n",
       "      <th>0</th>\n",
       "      <td>51688</td>\n",
       "      <td>0</td>\n",
       "      <td>2016</td>\n",
       "      <td>Kota Jakarta Pusat</td>\n",
       "      <td>2016-06-26</td>\n",
       "      <td>h-10</td>\n",
       "    </tr>\n",
       "    <tr>\n",
       "      <th>1</th>\n",
       "      <td>58230</td>\n",
       "      <td>1</td>\n",
       "      <td>2016</td>\n",
       "      <td>Kota Jakarta Pusat</td>\n",
       "      <td>2016-06-27</td>\n",
       "      <td>h-9</td>\n",
       "    </tr>\n",
       "    <tr>\n",
       "      <th>2</th>\n",
       "      <td>56555</td>\n",
       "      <td>2</td>\n",
       "      <td>2016</td>\n",
       "      <td>Kota Jakarta Pusat</td>\n",
       "      <td>2016-06-28</td>\n",
       "      <td>h-8</td>\n",
       "    </tr>\n",
       "    <tr>\n",
       "      <th>3</th>\n",
       "      <td>59412</td>\n",
       "      <td>3</td>\n",
       "      <td>2016</td>\n",
       "      <td>Kota Jakarta Pusat</td>\n",
       "      <td>2016-06-29</td>\n",
       "      <td>h-7</td>\n",
       "    </tr>\n",
       "    <tr>\n",
       "      <th>4</th>\n",
       "      <td>60949</td>\n",
       "      <td>4</td>\n",
       "      <td>2016</td>\n",
       "      <td>Kota Jakarta Pusat</td>\n",
       "      <td>2016-06-30</td>\n",
       "      <td>h-6</td>\n",
       "    </tr>\n",
       "  </tbody>\n",
       "</table>\n",
       "</div>"
      ],
      "text/plain": [
       "   passenger  time  year                city mudik_date days_type\n",
       "0      51688     0  2016  Kota Jakarta Pusat 2016-06-26      h-10\n",
       "1      58230     1  2016  Kota Jakarta Pusat 2016-06-27       h-9\n",
       "2      56555     2  2016  Kota Jakarta Pusat 2016-06-28       h-8\n",
       "3      59412     3  2016  Kota Jakarta Pusat 2016-06-29       h-7\n",
       "4      60949     4  2016  Kota Jakarta Pusat 2016-06-30       h-6"
      ]
     },
     "execution_count": 12,
     "metadata": {},
     "output_type": "execute_result"
    }
   ],
   "source": [
    "dta2.head()"
   ]
  },
  {
   "cell_type": "code",
   "execution_count": 13,
   "metadata": {
    "collapsed": true
   },
   "outputs": [],
   "source": [
    "fi_n='data_ka_20162017.xlsx'\n",
    "fi=pd.ExcelWriter(fi_n)\n",
    "dta2.to_excel(fi,'the_data')\n",
    "fi.save()\n",
    "fi.close()"
   ]
  },
  {
   "cell_type": "code",
   "execution_count": null,
   "metadata": {
    "collapsed": true
   },
   "outputs": [],
   "source": []
  }
 ],
 "metadata": {
  "anaconda-cloud": {},
  "kernelspec": {
   "display_name": "Python [conda env:snakes3_gpu]",
   "language": "python",
   "name": "conda-env-snakes3_gpu-py"
  },
  "language_info": {
   "codemirror_mode": {
    "name": "ipython",
    "version": 3
   },
   "file_extension": ".py",
   "mimetype": "text/x-python",
   "name": "python",
   "nbconvert_exporter": "python",
   "pygments_lexer": "ipython3",
   "version": "3.5.2"
  }
 },
 "nbformat": 4,
 "nbformat_minor": 2
}
